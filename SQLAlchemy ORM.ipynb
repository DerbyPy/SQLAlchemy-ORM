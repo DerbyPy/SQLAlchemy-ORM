{
 "cells": [
  {
   "cell_type": "markdown",
   "metadata": {
    "deletable": true,
    "editable": true
   },
   "source": [
    "# Introduction to SQLAlchemy ORM\n",
    "\n",
    "*Bill Adams @ DerbyPy - March 2017*"
   ]
  },
  {
   "cell_type": "markdown",
   "metadata": {
    "deletable": true,
    "editable": true
   },
   "source": [
    "### What is an ORM?\n",
    "\n",
    "* \"Object-Relational Mapping\"\n",
    "* An object-oriented wrapper around tabular data\n",
    "* Commonly use to represent tables in SQL databases"
   ]
  },
  {
   "cell_type": "markdown",
   "metadata": {
    "deletable": true,
    "editable": true
   },
   "source": [
    "### Why use an ORM?\n",
    "\n",
    "* Provides a more idiomatic interface to database\n",
    "* Reduces the need for string queries mixed in with source code\n",
    "* Hides differences between DB backends\n",
    "* Allows dynamic query building without string manipulation\n",
    "* Can help reduce risk of SQL injection"
   ]
  },
  {
   "cell_type": "markdown",
   "metadata": {
    "deletable": true,
    "editable": true
   },
   "source": [
    "### Some Benefits of SQLAlchemy ORM\n",
    "\n",
    "* More flexible than other ORMs\n",
    "* Expressions resemble SQL\n",
    "* Extremely extensible and customizable\n",
    "* Integration with many libraries/frameworks"
   ]
  },
  {
   "cell_type": "markdown",
   "metadata": {
    "deletable": true,
    "editable": true
   },
   "source": [
    "## Connect to DB and Setup Session"
   ]
  },
  {
   "cell_type": "code",
   "execution_count": null,
   "metadata": {
    "collapsed": true,
    "deletable": true,
    "editable": true
   },
   "outputs": [],
   "source": [
    "import sqlalchemy as sa\n",
    "from sqlalchemy.ext.declarative import declarative_base\n",
    "\n",
    "# Create engine. This defines how you connect to your database\n",
    "# `echo=True` will cause SQLAlchemy to print all queries sent to\n",
    "# the DB (useful for debugging when starting out)\n",
    "engine = sa.create_engine('sqlite:///music.db', echo=True)\n",
    "\n",
    "# Create a session. The session tracks and manages the ORM objects, handles\n",
    "# synchronization with the database, and manages the transaction\n",
    "SessionMaker = sa.orm.sessionmaker(bind=engine)\n",
    "session = SessionMaker()\n",
    "\n",
    "# Base class for our ORM entities\n",
    "Base = declarative_base()"
   ]
  },
  {
   "cell_type": "markdown",
   "metadata": {
    "deletable": true,
    "editable": true
   },
   "source": [
    "## About Sessions & Transactions\n",
    "\n",
    "* All queries and statements run in a transaction\n",
    "* Each session maintains its own open transaction at all times\n",
    "* Session's transaction lasts until `.commit()` or `.rollback()` call (then a new transaction is started)\n",
    "* Session maintains caches of new/modified/deleted ORM objects and only updates the DB when necessary"
   ]
  },
  {
   "cell_type": "markdown",
   "metadata": {
    "deletable": true,
    "editable": true
   },
   "source": [
    "## Define Schema"
   ]
  },
  {
   "cell_type": "code",
   "execution_count": null,
   "metadata": {
    "collapsed": false,
    "deletable": true,
    "editable": true
   },
   "outputs": [],
   "source": [
    "class Band(Base):\n",
    "    # Name of database table\n",
    "    __tablename__ = 'bands'\n",
    "\n",
    "    # Primary key column. All ORM classes should have a primary key\n",
    "    id = sa.Column(sa.Integer, primary_key=True)\n",
    "\n",
    "    # A VARCHAR(255) column with NOT NULL and UNIQUE constraints\n",
    "    name = sa.Column(sa.Unicode(255), nullable=False, unique=True)\n",
    "\n",
    "    def __repr__(self):\n",
    "        return '<Band id={0.id} name={0.name}>'.format(self)\n",
    "\n",
    "\n",
    "class Album(Base):\n",
    "    __tablename__ = 'albums'\n",
    "\n",
    "    id = sa.Column(sa.Integer, primary_key=True)\n",
    "\n",
    "    title = sa.Column(sa.Unicode(255), nullable=False)\n",
    "    release_date = sa.Column(sa.Date)\n",
    "    \n",
    "    # A FK to the bands table\n",
    "    band_id = sa.Column(sa.ForeignKey(Band.id, ondelete='cascade'), nullable=False)\n",
    "\n",
    "    # A relationship allowing bi-directional linking between band\n",
    "    # and album python objects\n",
    "    # In this case the FK relationship between the two tables is \n",
    "    # unambiguious so SQLA can detect it automatically\n",
    "    band = sa.orm.relationship(Band, backref='albums')\n",
    "\n",
    "    def __repr__(self):\n",
    "        return '<Album id={0.id} title={0.title} band={0.band}>'.format(self)\n",
    "        \n",
    "\n",
    "class Song(Base):\n",
    "    __tablename__ = 'songs'\n",
    "\n",
    "    id = sa.Column(sa.Integer, primary_key=True)\n",
    "\n",
    "    title = sa.Column(sa.Unicode(255), nullable=False)\n",
    "    track_num = sa.Column(sa.Integer, nullable=False)\n",
    "    length_seconds = sa.Column(sa.Float, nullable=False)\n",
    "\n",
    "    album_id = sa.Column(sa.ForeignKey(Album.id, ondelete='cascade'), nullable=False)\n",
    "\n",
    "    album = sa.orm.relationship(Album, backref=sa.orm.backref('songs', order_by=track_num))\n",
    "\n",
    "    def __repr__(self):\n",
    "        return '<Song id={0.id} track_num={0.track_num} album={0.album}>'.format(self)\n",
    "    \n",
    "# Create all missing tables for ORM classes inheriting from Base\n",
    "Base.metadata.create_all(engine)"
   ]
  },
  {
   "cell_type": "markdown",
   "metadata": {
    "deletable": true,
    "editable": true
   },
   "source": [
    "## Retrieving Records From the Database"
   ]
  },
  {
   "cell_type": "code",
   "execution_count": null,
   "metadata": {
    "collapsed": false,
    "deletable": true,
    "editable": true
   },
   "outputs": [],
   "source": [
    "# Retrieve a single record by ID\n",
    "band = session.query(Band).get(1)\n",
    "print('Band with ID=1:', band)"
   ]
  },
  {
   "cell_type": "code",
   "execution_count": null,
   "metadata": {
    "collapsed": false,
    "deletable": true,
    "editable": true
   },
   "outputs": [],
   "source": [
    "# Accessing column data\n",
    "# Band variable can be treated like any other python object\n",
    "print('Band Name: ', band.name)\n",
    "\n",
    "# Access band's albums\n",
    "print('Band Albums: ')\n",
    "for album in band.albums:\n",
    "    print(album)\n"
   ]
  },
  {
   "cell_type": "code",
   "execution_count": null,
   "metadata": {
    "collapsed": false,
    "deletable": true,
    "editable": true
   },
   "outputs": [],
   "source": [
    "# Querying for all bands\n",
    "all_bands = session.query(Band).all()\n",
    "print('All Bands: ', all_bands)"
   ]
  },
  {
   "cell_type": "code",
   "execution_count": null,
   "metadata": {
    "collapsed": false,
    "deletable": true,
    "editable": true
   },
   "outputs": [],
   "source": [
    "# Filtering query\n",
    "the_beatles = session.query(Band).filter(Band.name == 'The Beatles').first()\n",
    "print('The Beatles: ', the_beatles)"
   ]
  },
  {
   "cell_type": "code",
   "execution_count": null,
   "metadata": {
    "collapsed": false,
    "deletable": true,
    "editable": true
   },
   "outputs": [],
   "source": [
    "# More filtering\n",
    "the_bands = session.query(Band).filter(Band.name.like('%The%')).all()\n",
    "print('Bands with \"The\" in their name: ', the_bands)"
   ]
  },
  {
   "cell_type": "code",
   "execution_count": null,
   "metadata": {
    "collapsed": false,
    "deletable": true,
    "editable": true
   },
   "outputs": [],
   "source": [
    "# Boolean expression\n",
    "session.query(Band).filter(\n",
    "    sa.or_(Band.name == 'The Beatles', Band.name.like('%Simon%'))\n",
    ").all()"
   ]
  },
  {
   "cell_type": "code",
   "execution_count": null,
   "metadata": {
    "collapsed": false,
    "deletable": true,
    "editable": true
   },
   "outputs": [],
   "source": [
    "# Another way of writing the same query\n",
    "session.query(Band).filter(\n",
    "    (Band.name == 'The Beatles') | Band.name.like('%Simon%')\n",
    ").all()"
   ]
  },
  {
   "cell_type": "markdown",
   "metadata": {
    "deletable": true,
    "editable": true
   },
   "source": [
    "## Joins"
   ]
  },
  {
   "cell_type": "code",
   "execution_count": null,
   "metadata": {
    "collapsed": false,
    "deletable": true,
    "editable": true
   },
   "outputs": [],
   "source": [
    "session.query(\n",
    "    Band, \n",
    "    Album\n",
    ").join(\n",
    "    Album,\n",
    "    Album.band_id == Band.id\n",
    ").all()"
   ]
  },
  {
   "cell_type": "code",
   "execution_count": null,
   "metadata": {
    "collapsed": false,
    "deletable": true,
    "editable": true
   },
   "outputs": [],
   "source": [
    "# The same query using the join condition in the relationship\n",
    "session.query(\n",
    "    Band, \n",
    "    Album\n",
    ").join(\n",
    "    Album.band\n",
    ").all()"
   ]
  },
  {
   "cell_type": "markdown",
   "metadata": {
    "deletable": true,
    "editable": true
   },
   "source": [
    "## More advanced queries"
   ]
  },
  {
   "cell_type": "code",
   "execution_count": null,
   "metadata": {
    "collapsed": false,
    "deletable": true,
    "editable": true
   },
   "outputs": [],
   "source": [
    "# Selecting specific fields\n",
    "\n",
    "# Looking a lot like SQL at this point\n",
    "query = session.query(\n",
    "    # Select clause\n",
    "    Band.name,\n",
    "    Album.title,\n",
    "    Song.track_num,\n",
    "    Song.title\n",
    ").select_from(\n",
    "    Band\n",
    ").join(\n",
    "    # Join clause 1\n",
    "    Album,\n",
    "    Album.band_id == Band.id\n",
    ").join(\n",
    "    # Join clause 2\n",
    "    Song,\n",
    "    Song.album_id == Album.id\n",
    ").filter(\n",
    "    # Where clause\n",
    "    Song.length_seconds > 300  # tracks longer than 5 minutes\n",
    ").order_by(\n",
    "    Band.name,\n",
    "    Album.title,\n",
    "    Song.track_num\n",
    ")\n",
    "\n",
    "for result in query:\n",
    "    print(result)"
   ]
  },
  {
   "cell_type": "code",
   "execution_count": null,
   "metadata": {
    "collapsed": false,
    "deletable": true,
    "editable": true
   },
   "outputs": [],
   "source": [
    "# Aggregation\n",
    "query = session.query(\n",
    "    Band.name,\n",
    "    Album.title,\n",
    "    sa.func.count(Song.id).label('num_tracks'),\n",
    "    sa.func.sum(Song.length_seconds / 60).label('album_length_mins')\n",
    ").join(\n",
    "    Band.albums\n",
    ").join(\n",
    "    Album.songs\n",
    ").group_by(\n",
    "    Band.name,\n",
    "    Album.title,\n",
    ").order_by(\n",
    "    Band.name,\n",
    "    Album.title\n",
    ")\n",
    "\n",
    "results = query.all()\n",
    "results"
   ]
  },
  {
   "cell_type": "code",
   "execution_count": null,
   "metadata": {
    "collapsed": false,
    "deletable": true,
    "editable": true
   },
   "outputs": [],
   "source": [
    "# Subquery\n",
    "track_counts_by_band = session.query(\n",
    "    Band.id.label('band_id'),\n",
    "    sa.func.count(Song.id).label('song_count')\n",
    ").join(\n",
    "    Band.albums\n",
    ").join(\n",
    "    Album.songs\n",
    ").group_by(\n",
    "    Band.id\n",
    ").subquery('by_band')\n",
    "\n",
    "track_count_total = session.query(Song.id).count()\n",
    "print('# Songs: ', track_count_total)\n",
    "\n",
    "session.query(\n",
    "    Band.name,\n",
    "    sa.cast(track_counts_by_band.c.song_count, sa.Float) * 100.0 / track_count_total\n",
    ").join(\n",
    "    track_counts_by_band,\n",
    "    track_counts_by_band.c.band_id == Band.id\n",
    ").all()"
   ]
  },
  {
   "cell_type": "markdown",
   "metadata": {
    "deletable": true,
    "editable": true
   },
   "source": [
    "# Inserting Records"
   ]
  },
  {
   "cell_type": "code",
   "execution_count": null,
   "metadata": {
    "collapsed": false,
    "deletable": true,
    "editable": true
   },
   "outputs": [],
   "source": [
    "import datetime\n",
    "\n",
    "# Create a new band instance (not tied to DB/session yet)\n",
    "john_prine = Band(name='John Prine')\n",
    "\n",
    "# Tell the session to start tracking our new instance.\n",
    "# No data is sent to the DB until our current \n",
    "# transaction is commited or the session is flushed\n",
    "session.add(john_prine)\n",
    "\n",
    "# Create an album for our new band\n",
    "souvenirs = Album()\n",
    "souvenirs.title = 'Souvenirs'\n",
    "souvenirs.release_date = datetime.date(2000, 10, 31)\n",
    "souvenirs.band = john_prine\n",
    "\n",
    "session.add(souvenirs)\n",
    "\n",
    "# Create songs for our new album\n",
    "track_data = [\n",
    "    ('Souvenirs', 1, 222.866), \n",
    "    ('Fish and Whistle', 2, 180.693), \n",
    "    ('Far From Me', 3, 309.706),\n",
    "    ('Angel From Montgomery', 4, 307.626), \n",
    "    ('Donald & Lydia', 5, 249.533),\n",
    "    ('Christmas In Prison', 6, 216.84), \n",
    "    ('Storm Windows', 7, 266.733),\n",
    "    ('Grandpa Was a Carpenter', 8, 172.533), \n",
    "    ('The Late John Garfield Blues', 9, 226.293),\n",
    "    ('Blue Umbrella', 10, 233.24), \n",
    "    (\"Six O'Clock News\", 11, 276.666),\n",
    "    (\"People Puttin' People Down\", 12, 240.226), \n",
    "    ('Sam Stone', 13, 279.6),\n",
    "    (\"Please Don't Bury Me\", 14, 186.8), \n",
    "    ('Hello In There', 15, 297.173)\n",
    "]\n",
    "for title, track_num, length in track_data:\n",
    "    track = Song(title=title, track_num=track_num, length_seconds=length)\n",
    "    souvenirs.songs.append(track)\n",
    "    # adding the songs to the album's relationship list automatically \n",
    "    # adds them to the session\n",
    "\n",
    "print('About to commit')\n",
    "session.commit() # Insert statements are executed now"
   ]
  },
  {
   "cell_type": "code",
   "execution_count": null,
   "metadata": {
    "collapsed": false,
    "deletable": true,
    "editable": true
   },
   "outputs": [],
   "source": [
    "session.query(Song).all()"
   ]
  },
  {
   "cell_type": "markdown",
   "metadata": {
    "deletable": true,
    "editable": true
   },
   "source": [
    "## Updating Records"
   ]
  },
  {
   "cell_type": "code",
   "execution_count": null,
   "metadata": {
    "collapsed": false,
    "deletable": true,
    "editable": true
   },
   "outputs": [],
   "source": [
    "white_album = session.query(Album).filter(\n",
    "    Album.title == 'The Beatles (Remastered)'\n",
    ").first()\n",
    "\n",
    "# Just update like any model object\n",
    "white_album.title = 'The White Album'\n",
    "\n",
    "# No need to call session.add() here. The session is already tracking the \n",
    "# object since we got it from a query\n",
    "\n",
    "# Database record is not updated until the session is commited or flushed\n",
    "# Executing a select query will automatically flush the session before \n",
    "# the query runs\n",
    "session.query(Album).all()"
   ]
  },
  {
   "cell_type": "code",
   "execution_count": null,
   "metadata": {
    "collapsed": false,
    "deletable": true,
    "editable": true
   },
   "outputs": [],
   "source": [
    "# Revert our changes in the current transaction\n",
    "session.rollback()\n",
    "print('Session Rolled back')\n",
    "\n",
    "session.query(Album).all()"
   ]
  },
  {
   "cell_type": "markdown",
   "metadata": {
    "collapsed": true,
    "deletable": true,
    "editable": true
   },
   "source": [
    "## Additional Resources\n",
    "\n",
    "* [SQLAlchemy Docs and Tutorials](http://docs.sqlalchemy.org/en/latest/orm/tutorial.html)\n",
    "* [In Depth Introducton by Mike Bayer (Creator of SQLA)](https://www.youtube.com/watch?v=woKYyhLCcnU)"
   ]
  },
  {
   "cell_type": "code",
   "execution_count": null,
   "metadata": {
    "collapsed": true,
    "deletable": true,
    "editable": true
   },
   "outputs": [],
   "source": []
  }
 ],
 "metadata": {
  "kernelspec": {
   "display_name": "Python 3",
   "language": "python",
   "name": "python3"
  },
  "language_info": {
   "codemirror_mode": {
    "name": "ipython",
    "version": 3
   },
   "file_extension": ".py",
   "mimetype": "text/x-python",
   "name": "python",
   "nbconvert_exporter": "python",
   "pygments_lexer": "ipython3",
   "version": "3.5.2"
  }
 },
 "nbformat": 4,
 "nbformat_minor": 0
}
